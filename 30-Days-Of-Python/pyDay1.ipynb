{
  "nbformat": 4,
  "nbformat_minor": 0,
  "metadata": {
    "colab": {
      "name": "pyDay1.ipynb",
      "provenance": []
    },
    "kernelspec": {
      "name": "python3",
      "display_name": "Python 3"
    },
    "language_info": {
      "name": "python"
    }
  },
  "cells": [
    {
      "cell_type": "code",
      "metadata": {
        "colab": {
          "base_uri": "https://localhost:8080/"
        },
        "id": "dxhCynXCQ6Cy",
        "outputId": "ef5fb3cb-71fc-4600-e9f6-c22611e966a1"
      },
      "source": [
        "print(\"Hello, World!\")\n"
      ],
      "execution_count": 1,
      "outputs": [
        {
          "output_type": "stream",
          "text": [
            "Hello, World!\n"
          ],
          "name": "stdout"
        }
      ]
    },
    {
      "cell_type": "code",
      "metadata": {
        "colab": {
          "base_uri": "https://localhost:8080/"
        },
        "id": "GPrZOTo-RIl8",
        "outputId": "2d6fdbc7-67df-4e0e-c57c-a3634c0cc891"
      },
      "source": [
        "# Day 1 - Lets start 30DaysOfPython Challenge \n",
        "\n",
        "# Now we are going to see Python Arithmetic Operators like\n",
        "\n",
        "print(2 + 3)   # addition(+)\n",
        "print(3 - 1)   # subtraction(-)\n",
        "print(2 * 3)   # multiplication(*)\n",
        "print(3 / 2)   # division(/)\n",
        "print(3 ** 2)  # exponential(**)\n",
        "print(3 % 2)   # modulus(%)\n",
        "print(3 // 2)  # Floor division operator(//)"
      ],
      "execution_count": 2,
      "outputs": [
        {
          "output_type": "stream",
          "text": [
            "5\n",
            "2\n",
            "6\n",
            "1.5\n",
            "9\n",
            "1\n",
            "1\n"
          ],
          "name": "stdout"
        }
      ]
    },
    {
      "cell_type": "code",
      "metadata": {
        "colab": {
          "base_uri": "https://localhost:8080/"
        },
        "id": "i4igTezbROle",
        "outputId": "0f7e9185-9dcd-4ff1-f858-bfdac3ecc1fc"
      },
      "source": [
        "# Checking data types\n",
        "\n",
        "print(type(10))                  # Int\n",
        "print(type(3.14))                # Float\n",
        "print(type(1 + 3j))              # Complex\n",
        "print(type('Asabeneh'))          # String\n",
        "print(type([1, 2, 3]))           # List\n",
        "print(type({'name':'Asabeneh'})) # Dictionary\n",
        "print(type({9.8, 3.14, 2.7}))    # Tuple\n",
        "\n",
        "#ohhh its too complicating i clearly say noo its not complete explaination of data types of python\n",
        "#but lets see basic defination of it\n",
        "#first all we aleady know about - int (integer),float(2.5),complex(2+5j)-complex no. having a 2 type of number one is real and second is imaginary \n",
        "#first 3 will covered then looking forward to next data types\n",
        "\n",
        "#string \n",
        "'''string is single variable contains only alfabets'''\n",
        "\n",
        "#List\n",
        "'''Lists are used to store multiple items in a single variable.[1, 2, 3] it can be your name or my name \n",
        "++ List items are ordered, changeable, and allow duplicate values.'''\n",
        "\n",
        "#tuple \n",
        "'''Tuples are used to store multiple items in a single variable. A tuple is a collection which is ordered and unchangeable.'''\n",
        "\n",
        "#set\n",
        "'''Set items are unordered, unchangeable, and do not allow duplicate values.'''\n",
        "\n",
        "# dictionary\n",
        "'''Ordered or Unordered?\n",
        "As of Python version 3.7, dictionaries are ordered. In Python 3.6 and earlier, dictionaries are unordered.\n",
        "\n",
        "When we say that dictionaries are ordered, it means that the items have a defined order, and that order will not change.\n",
        "\n",
        "Unordered means that the items does not have a defined order, you cannot refer to an item by using an index.\n",
        "\n",
        "Changeable\n",
        "Dictionaries are changeable, meaning that we can change, add or remove items after the dictionary has been created.\n",
        "\n",
        "Duplicates Not Allowed'''\n",
        "\n",
        "\n",
        "\n",
        "\n"
      ],
      "execution_count": 3,
      "outputs": [
        {
          "output_type": "stream",
          "text": [
            "<class 'int'>\n",
            "<class 'float'>\n",
            "<class 'complex'>\n",
            "<class 'str'>\n",
            "<class 'list'>\n",
            "<class 'dict'>\n",
            "<class 'set'>\n"
          ],
          "name": "stdout"
        }
      ]
    },
    {
      "cell_type": "code",
      "metadata": {
        "colab": {
          "base_uri": "https://localhost:8080/"
        },
        "id": "nTD0tCHmSDXP",
        "outputId": "1564d963-5809-427f-c272-e18c7da92f15"
      },
      "source": [
        "x = 5\n",
        "y = 10\n",
        "# then we are going to apply Python Comparison Operators\n",
        "print(x == y) #equal too\n",
        "print(x != y) #Not equal\t\n",
        "print(x > y) #Greater than\t\n",
        "print(x < y) #Less than\t\n",
        "print(x >= y) #Greater than or equal to\t\n",
        "print(x <= y) #Less than or equal to\t\n",
        "\n",
        "#we need to know x is variable and 5 is data\n",
        "#same as y is variable 10 is data"
      ],
      "execution_count": 5,
      "outputs": [
        {
          "output_type": "stream",
          "text": [
            "False\n",
            "True\n",
            "False\n",
            "True\n",
            "False\n",
            "True\n"
          ],
          "name": "stdout"
        }
      ]
    },
    {
      "cell_type": "code",
      "metadata": {
        "id": "Iu2OGgVNSb28"
      },
      "source": [
        ""
      ],
      "execution_count": null,
      "outputs": []
    }
  ]
}